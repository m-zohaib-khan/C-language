{
  "nbformat": 4,
  "nbformat_minor": 0,
  "metadata": {
    "colab": {
      "provenance": [],
      "authorship_tag": "ABX9TyOuK4JOzIrAS6O4XNvz0n7V",
      "include_colab_link": true
    },
    "kernelspec": {
      "name": "python3",
      "display_name": "Python 3"
    },
    "language_info": {
      "name": "python"
    }
  },
  "cells": [
    {
      "cell_type": "markdown",
      "metadata": {
        "id": "view-in-github",
        "colab_type": "text"
      },
      "source": [
        "<a href=\"https://colab.research.google.com/github/m-zohaib-khan/c-language/blob/main/LabTask_1.ipynb\" target=\"_parent\"><img src=\"https://colab.research.google.com/assets/colab-badge.svg\" alt=\"Open In Colab\"/></a>"
      ]
    },
    {
      "cell_type": "code",
      "execution_count": null,
      "metadata": {
        "colab": {
          "base_uri": "https://localhost:8080/"
        },
        "id": "6lCFQMszGLAv",
        "outputId": "3a0fd8d5-d913-43e8-9536-087f5fe81b46"
      },
      "outputs": [
        {
          "output_type": "stream",
          "name": "stdout",
          "text": [
            "Hello World\n"
          ]
        }
      ],
      "source": [
        "print(\"Hello World\")"
      ]
    },
    {
      "cell_type": "code",
      "source": [
        "# Write a program that takes a user's name as input and greets them with \"Hello, [Name]!\".\n",
        "user=input(\"Enter your name: \")\n",
        "print(\"Hello!\",user)\n"
      ],
      "metadata": {
        "colab": {
          "base_uri": "https://localhost:8080/"
        },
        "id": "01aLT27xHPE2",
        "outputId": "4f2258d1-d70d-4332-f04d-ee1270945d0e"
      },
      "execution_count": null,
      "outputs": [
        {
          "output_type": "stream",
          "name": "stdout",
          "text": [
            "Enter your name: zohaib\n",
            "Hello! zohaib\n"
          ]
        }
      ]
    },
    {
      "cell_type": "code",
      "source": [
        "# Write a program that takes two numbers as input and prints their sum, difference, product, and quotient.\n",
        "num1=int(input(\"Enter first number: \"))\n",
        "num2=int(input(\"Enter second number: \"))\n",
        "print(\"Sum:\",num1+num2)\n",
        "print(\"Difference:\",num1-num2)\n",
        "print(\"Product:\",num1*num2)\n"
      ],
      "metadata": {
        "colab": {
          "base_uri": "https://localhost:8080/"
        },
        "id": "fffEB3f8Ho60",
        "outputId": "129058a7-725d-4358-c477-ea46b6dd8d53"
      },
      "execution_count": null,
      "outputs": [
        {
          "output_type": "stream",
          "name": "stdout",
          "text": [
            "Enter first number: 4\n",
            "Enter second number: 5\n",
            "Sum: 9\n",
            "Difference: -1\n",
            "Product: 20\n"
          ]
        }
      ]
    },
    {
      "cell_type": "code",
      "source": [
        "# Write a program to check if a number is odd or even.\n",
        "num1=int(input(\"Enter first number: \"))\n",
        "\n",
        "if num1 % 2 != 0:\n",
        "\n",
        "    print(\"number is odd\")\n",
        "\n",
        "else:\n",
        "\n",
        "    print(\"number is even\")\n",
        "\n",
        "\n",
        "\n"
      ],
      "metadata": {
        "colab": {
          "base_uri": "https://localhost:8080/"
        },
        "id": "OqQ_qMIhH2B8",
        "outputId": "e56b4cd9-1db8-400b-c082-4ff56799330c"
      },
      "execution_count": null,
      "outputs": [
        {
          "output_type": "stream",
          "name": "stdout",
          "text": [
            "Enter first number: 6\n",
            "number is even\n"
          ]
        }
      ]
    },
    {
      "cell_type": "code",
      "source": [
        "# Write a Python program to print \"Hello, World!\".\n",
        "squares = [i**2 for i in range(1, 11)]\n",
        "print(squares)"
      ],
      "metadata": {
        "colab": {
          "base_uri": "https://localhost:8080/"
        },
        "id": "-ZanMt3ToGou",
        "outputId": "08399922-a627-45ee-e123-6d7cf8f94797"
      },
      "execution_count": 1,
      "outputs": [
        {
          "output_type": "stream",
          "name": "stdout",
          "text": [
            "[1, 4, 9, 16, 25, 36, 49, 64, 81, 100]\n"
          ]
        }
      ]
    },
    {
      "cell_type": "code",
      "source": [
        "# List Operations\n",
        "numbers = [3, 1, 4, 1, 5, 9, 2, 6, 5]\n",
        "\n",
        "# Add an element\n",
        "numbers.append(7)\n",
        "print(\"After adding 7:\", numbers)\n",
        "\n",
        "# Remove an element\n",
        "numbers.remove(1)\n",
        "print(\"After removing 1:\", numbers)\n",
        "\n",
        "# Sort the list\n",
        "numbers.sort()\n",
        "print(\"Sorted list:\", numbers)"
      ],
      "metadata": {
        "colab": {
          "base_uri": "https://localhost:8080/"
        },
        "id": "YN46KOUIoZ43",
        "outputId": "4284a822-7ce7-479f-c737-f6154ac02514"
      },
      "execution_count": 2,
      "outputs": [
        {
          "output_type": "stream",
          "name": "stdout",
          "text": [
            "After adding 7: [3, 1, 4, 1, 5, 9, 2, 6, 5, 7]\n",
            "After removing 1: [3, 4, 1, 5, 9, 2, 6, 5, 7]\n",
            "Sorted list: [1, 2, 3, 4, 5, 5, 6, 7, 9]\n"
          ]
        }
      ]
    },
    {
      "cell_type": "code",
      "source": [
        "# Create a dictionary to store student names and their marks. Perform the following operations\n",
        "students = {\n",
        "    \"Alice\": 85,\n",
        "    \"Bob\": 90,\n",
        "    \"Charlie\": 78\n",
        "}\n",
        "\n",
        "# Add a new student\n",
        "students[\"David\"] = 88\n",
        "print(\"After adding David:\", students)\n",
        "\n",
        "# Update the marks of an existing student\n",
        "students[\"Alice\"] = 95\n",
        "print(\"After updating Alice's marks:\", students)\n",
        "\n",
        "# Delete a student\n",
        "del students[\"Charlie\"]\n",
        "print(\"After deleting Charlie:\", students)"
      ],
      "metadata": {
        "colab": {
          "base_uri": "https://localhost:8080/"
        },
        "id": "PnkVekQSosdk",
        "outputId": "071d9186-958c-4a87-e3a5-4cf9d6930514"
      },
      "execution_count": 3,
      "outputs": [
        {
          "output_type": "stream",
          "name": "stdout",
          "text": [
            "After adding David: {'Alice': 85, 'Bob': 90, 'Charlie': 78, 'David': 88}\n",
            "After updating Alice's marks: {'Alice': 95, 'Bob': 90, 'Charlie': 78, 'David': 88}\n",
            "After deleting Charlie: {'Alice': 95, 'Bob': 90, 'David': 88}\n"
          ]
        }
      ]
    },
    {
      "cell_type": "code",
      "source": [
        "# Write a function to calculate the area of a circle given its radius.\n",
        "import math\n",
        "\n",
        "def calculate_area(radius):\n",
        "    return math.pi * radius**2\n",
        "\n",
        "radius = float(input(\"Enter the radius of the circle: \"))\n",
        "area = calculate_area(radius)\n",
        "print(f\"The area of the circle is: {area:.2f}\")"
      ],
      "metadata": {
        "colab": {
          "base_uri": "https://localhost:8080/"
        },
        "id": "krN4Gadio3Ls",
        "outputId": "11b5bf0a-fee0-4b98-dc41-5bab20b0fb2b"
      },
      "execution_count": 4,
      "outputs": [
        {
          "output_type": "stream",
          "name": "stdout",
          "text": [
            "Enter the radius of the circle: 4.0\n",
            "The area of the circle is: 50.27\n"
          ]
        }
      ]
    },
    {
      "cell_type": "code",
      "source": [
        "# Write a program to use a lambda function to add two numbers.\n",
        "add = lambda x, y: x + y\n",
        "num1 = float(input(\"Enter the first number: \"))\n",
        "num2 = float(input(\"Enter the second number: \"))\n",
        "result = add(num1, num2)\n",
        "print(f\"The sum of {num1} and {num2} is: {result}\")"
      ],
      "metadata": {
        "colab": {
          "base_uri": "https://localhost:8080/"
        },
        "id": "4-_KqsfipFj2",
        "outputId": "a98c1c83-3883-4233-d921-1b3532fc7751"
      },
      "execution_count": 5,
      "outputs": [
        {
          "output_type": "stream",
          "name": "stdout",
          "text": [
            "Enter the first number: 4\n",
            "Enter the second number: 5\n",
            "The sum of 4.0 and 5.0 is: 9.0\n"
          ]
        }
      ]
    },
    {
      "cell_type": "code",
      "source": [
        "# Use list comprehension to create a list of even numbers from 1 to 20.\n",
        "even_numbers = [i for i in range(1, 21) if i % 2 == 0]\n",
        "print(even_numbers)"
      ],
      "metadata": {
        "colab": {
          "base_uri": "https://localhost:8080/"
        },
        "id": "8xGRfdD0pRZa",
        "outputId": "623e4761-0d95-49e0-99c4-955f5caacad0"
      },
      "execution_count": 6,
      "outputs": [
        {
          "output_type": "stream",
          "name": "stdout",
          "text": [
            "[2, 4, 6, 8, 10, 12, 14, 16, 18, 20]\n"
          ]
        }
      ]
    }
  ]
}