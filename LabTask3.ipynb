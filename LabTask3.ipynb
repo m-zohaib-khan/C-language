{
  "nbformat": 4,
  "nbformat_minor": 0,
  "metadata": {
    "colab": {
      "provenance": [],
      "authorship_tag": "ABX9TyMsYdRv54kXMyHF9gjH1nQJ",
      "include_colab_link": true
    },
    "kernelspec": {
      "name": "python3",
      "display_name": "Python 3"
    },
    "language_info": {
      "name": "python"
    }
  },
  "cells": [
    {
      "cell_type": "markdown",
      "metadata": {
        "id": "view-in-github",
        "colab_type": "text"
      },
      "source": [
        "<a href=\"https://colab.research.google.com/github/m-zohaib-khan/C-language/blob/main/LabTask3.ipynb\" target=\"_parent\"><img src=\"https://colab.research.google.com/assets/colab-badge.svg\" alt=\"Open In Colab\"/></a>"
      ]
    },
    {
      "cell_type": "code",
      "execution_count": 5,
      "metadata": {
        "colab": {
          "base_uri": "https://localhost:8080/"
        },
        "id": "TsdC7q-Uyzu8",
        "outputId": "11a8aa04-e729-45bd-ac95-8f17146467bf"
      },
      "outputs": [
        {
          "output_type": "stream",
          "name": "stdout",
          "text": [
            "BFS Path from Karachi to Lahore: ['Karachi', 'Hyderabad', 'Multan', 'Lahore']\n",
            "DFS Path from Karachi to Lahore: ['Karachi', 'Hyderabad', 'Sukkur', 'Multan', 'Lahore']\n"
          ]
        }
      ],
      "source": [
        "from collections import deque\n",
        "\n",
        "# Graph of cities in Pakistan\n",
        "pakistan_cities = {\n",
        "    'Karachi': ['Hyderabad', 'Quetta'],\n",
        "    'Hyderabad': ['Karachi', 'Sukkur', 'Multan'],\n",
        "    'Quetta': ['Karachi', 'Sukkur'],\n",
        "    'Sukkur': ['Hyderabad', 'Quetta', 'Multan', 'Islamabad'],\n",
        "    'Multan': ['Hyderabad', 'Sukkur', 'Lahore'],\n",
        "    'Islamabad': ['Sukkur', 'Lahore', 'Peshawar'],\n",
        "    'Lahore': ['Multan', 'Islamabad', 'Faisalabad'],\n",
        "    'Faisalabad': ['Lahore'],\n",
        "    'Peshawar': ['Islamabad']\n",
        "}\n",
        "\n",
        "def bfs(graph, start, goal):\n",
        "    # Queue for BFS: stores tuples of (current_node, path)\n",
        "    queue = deque([(start, [start])])\n",
        "    visited = set()  # To keep track of visited nodes\n",
        "\n",
        "    while queue:\n",
        "        current, path = queue.popleft()  # Dequeue the front node\n",
        "        if current == goal:\n",
        "            return path  # Return the path if goal is reached\n",
        "\n",
        "        if current not in visited:\n",
        "            visited.add(current)  # Mark the node as visited\n",
        "\n",
        "            # Enqueue all unvisited neighbors\n",
        "            for neighbor in graph[current]:\n",
        "                if neighbor not in visited:\n",
        "                    queue.append((neighbor, path + [neighbor]))\n",
        "\n",
        "    return None  # If no path is found\n",
        "\n",
        "def dfs(graph, start, goal, visited=None, path=None):\n",
        "    if visited is None:\n",
        "        visited = set()  # To keep track of visited nodes\n",
        "    if path is None:\n",
        "        path = []  # To store the current path\n",
        "\n",
        "    visited.add(start)  # Mark the current node as visited\n",
        "    path = path + [start]  # Add the current node to the path\n",
        "\n",
        "    if start == goal:\n",
        "        return path  # Return the path if goal is reached\n",
        "\n",
        "    # Recursively visit all unvisited neighbors\n",
        "    for neighbor in graph[start]:\n",
        "        if neighbor not in visited:\n",
        "            result = dfs(graph, neighbor, goal, visited, path)\n",
        "            if result is not None:\n",
        "                return result  # Return the path if found\n",
        "\n",
        "    return None  # If no path is found\n",
        "\n",
        "# Test BFS\n",
        "start_city = 'Karachi'\n",
        "goal_city = 'Lahore'\n",
        "bfs_path = bfs(pakistan_cities, start_city, goal_city)\n",
        "print(f\"BFS Path from {start_city} to {goal_city}: {bfs_path}\")\n",
        "\n",
        "# Test DFS\n",
        "dfs_path = dfs(pakistan_cities, start_city, goal_city)\n",
        "print(f\"DFS Path from {start_city} to {goal_city}: {dfs_path}\")"
      ]
    }
  ]
}