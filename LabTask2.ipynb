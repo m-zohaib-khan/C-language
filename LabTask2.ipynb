{
  "nbformat": 4,
  "nbformat_minor": 0,
  "metadata": {
    "colab": {
      "provenance": [],
      "authorship_tag": "ABX9TyPkKMZV6VOD4g03wb1FZh87",
      "include_colab_link": true
    },
    "kernelspec": {
      "name": "python3",
      "display_name": "Python 3"
    },
    "language_info": {
      "name": "python"
    }
  },
  "cells": [
    {
      "cell_type": "markdown",
      "metadata": {
        "id": "view-in-github",
        "colab_type": "text"
      },
      "source": [
        "<a href=\"https://colab.research.google.com/github/m-zohaib-khan/C-language/blob/main/LabTask2.ipynb\" target=\"_parent\"><img src=\"https://colab.research.google.com/assets/colab-badge.svg\" alt=\"Open In Colab\"/></a>"
      ]
    },
    {
      "cell_type": "code",
      "execution_count": 3,
      "metadata": {
        "colab": {
          "base_uri": "https://localhost:8080/"
        },
        "id": "4Nsy1YFvn6E1",
        "outputId": "ff2057cc-dab1-4862-f90d-d19a66bddb00"
      },
      "outputs": [
        {
          "output_type": "stream",
          "name": "stdout",
          "text": [
            "3x3 array of zeros:\n",
            " [[0. 0. 0.]\n",
            " [0. 0. 0.]\n",
            " [0. 0. 0.]]\n",
            "\n",
            "2x4 array of ones:\n",
            " [[1. 1. 1. 1.]\n",
            " [1. 1. 1. 1.]]\n",
            "\n",
            "5x5 array filled with 7:\n",
            " [[7 7 7 7 7]\n",
            " [7 7 7 7 7]\n",
            " [7 7 7 7 7]\n",
            " [7 7 7 7 7]\n",
            " [7 7 7 7 7]]\n"
          ]
        }
      ],
      "source": [
        "import numpy as n\n",
        "# Create a 3x3 array of zeros\n",
        "zeros_array = n.zeros((3, 3))\n",
        "print(\"3x3 array of zeros:\\n\", zeros_array)\n",
        "\n",
        "# Create a 2x4 array of ones\n",
        "ones_array = n.ones((2, 4))\n",
        "print(\"\\n2x4 array of ones:\\n\", ones_array)\n",
        "\n",
        "# Create a 5x5 array filled with the value 7\n",
        "full_array = n.full((5, 5), 7)\n",
        "print(\"\\n5x5 array filled with 7:\\n\", full_array)\n"
      ]
    },
    {
      "cell_type": "code",
      "source": [
        "import numpy as np\n",
        "\n",
        "# 1.1.1 Create a 1D array of numbers from 0 to 9.\n",
        "array_1d = np.arange(10)\n",
        "print(\"1D array from 0 to 9:\\n\", array_1d)\n",
        "\n",
        "# 1.2.1 Create a 2D array with shape (3, 3), where values range from 1 to 9.\n",
        "array_2d = np.arange(1, 10).reshape(3, 3)\n",
        "print(\"\\n2D array with shape (3, 3):\\n\", array_2d)\n",
        "\n",
        "# 1.3.1 Create a 3D array of shape (2, 3, 4) filled with random integers from 1 to 100\n",
        "array_3d = np.random.randint(1, 101, size=(2, 3, 4))\n",
        "print(\"\\n3D array with shape (2, 3, 4) and random integers:\\n\", array_3d)\n"
      ],
      "metadata": {
        "colab": {
          "base_uri": "https://localhost:8080/"
        },
        "id": "EjVFRnzLp5JE",
        "outputId": "5e9bab5c-e874-44aa-e204-995599948845"
      },
      "execution_count": 4,
      "outputs": [
        {
          "output_type": "stream",
          "name": "stdout",
          "text": [
            "1D array from 0 to 9:\n",
            " [0 1 2 3 4 5 6 7 8 9]\n",
            "\n",
            "2D array with shape (3, 3):\n",
            " [[1 2 3]\n",
            " [4 5 6]\n",
            " [7 8 9]]\n",
            "\n",
            "3D array with shape (2, 3, 4) and random integers:\n",
            " [[[88 12 94 16]\n",
            "  [69 30 14 15]\n",
            "  [46 79 85 71]]\n",
            "\n",
            " [[28 91 95 85]\n",
            "  [23 52  1 68]\n",
            "  [52 46 76 69]]]\n"
          ]
        }
      ]
    },
    {
      "cell_type": "code",
      "source": [
        "# 1.1.1 Extract the second row of arr2.\n",
        "\n",
        "second_row = array_2d[1, :]\n",
        "print(\"Second row of arr2:\\n\", second_row)\n",
        "\n",
        "# 1.2.1 Extract the element at the 3rd row and 2nd column of arr2.\n",
        "\n",
        "element_3rd_row_2nd_col = array_2d[2, 1]\n",
        "print(\"Element at 3rd row and 2nd column of arr2:\\n\", element_3rd_row_2nd_col)\n",
        "\n",
        "# 1.3.1 Extract all elements from the 3D array arr3 at the first index (0th layer).\n",
        "\n",
        "first_layer_elements = array_3d[0, :, :]\n",
        "print(\"Elements at the first index (0th layer) of arr3:\\n\", first_layer_elements)\n"
      ],
      "metadata": {
        "colab": {
          "base_uri": "https://localhost:8080/"
        },
        "id": "8-REgns-qcZr",
        "outputId": "160d4197-1a84-418e-d91c-c4bab77148ef"
      },
      "execution_count": 5,
      "outputs": [
        {
          "output_type": "stream",
          "name": "stdout",
          "text": [
            "Second row of arr2:\n",
            " [4 5 6]\n",
            "Element at 3rd row and 2nd column of arr2:\n",
            " 8\n",
            "Elements at the first index (0th layer) of arr3:\n",
            " [[88 12 94 16]\n",
            " [69 30 14 15]\n",
            " [46 79 85 71]]\n"
          ]
        }
      ]
    },
    {
      "cell_type": "code",
      "source": [
        "# Reshape the 1D array into a 2x5 2D array.\n",
        "reshaped_array = array_1d.reshape(2, 5)\n",
        "print(\"\\nReshaped 1D array into a 2x5 2D array:\\n\", reshaped_array)\n"
      ],
      "metadata": {
        "colab": {
          "base_uri": "https://localhost:8080/"
        },
        "id": "DmrFgpA1qwmA",
        "outputId": "80919608-0374-46cf-92fc-36d23e6dbeb2"
      },
      "execution_count": 6,
      "outputs": [
        {
          "output_type": "stream",
          "name": "stdout",
          "text": [
            "\n",
            "Reshaped 1D array into a 2x5 2D array:\n",
            " [[0 1 2 3 4]\n",
            " [5 6 7 8 9]]\n"
          ]
        }
      ]
    },
    {
      "cell_type": "code",
      "source": [
        "import matplotlib.pyplot as plt\n",
        "\n",
        "x = [1, 2, 3, 4, 5]\n",
        "y = [2, 4, 6, 8, 10]\n",
        "\n",
        "plt.plot(x, y, color='red', linestyle='dashed')\n",
        "plt.title('Basic Line Plot')\n",
        "plt.xlabel('X Values')\n",
        "plt.ylabel('Y Values')\n",
        "plt.show()\n"
      ],
      "metadata": {
        "colab": {
          "base_uri": "https://localhost:8080/",
          "height": 472
        },
        "id": "_lZrw1MBq6cz",
        "outputId": "dac0d93d-57f7-4ada-ed77-61913c6ea984"
      },
      "execution_count": 7,
      "outputs": [
        {
          "output_type": "display_data",
          "data": {
            "text/plain": [
              "<Figure size 640x480 with 1 Axes>"
            ],
            "image/png": "[encoded data removed]"
          },
          "metadata": {}
        }
      ]
    },
    {
      "cell_type": "code",
      "source": [
        "import matplotlib.pyplot as plt\n",
        "\n",
        "categories = ['A', 'B', 'C', 'D']\n",
        "values = [10, 20, 15, 25]\n",
        "\n",
        "plt.bar(categories, values, color='green')\n",
        "plt.title('Bar Plot')\n",
        "plt.xlabel('Categories')\n",
        "plt.ylabel('Values')\n",
        "plt.show()\n"
      ],
      "metadata": {
        "colab": {
          "base_uri": "https://localhost:8080/",
          "height": 472
        },
        "id": "eBgxKDzJrNU9",
        "outputId": "969a8b22-125d-4525-9a43-cd97c9155c3f"
      },
      "execution_count": 8,
      "outputs": [
        {
          "output_type": "display_data",
          "data": {
            "text/plain": [
              "<Figure size 640x480 with 1 Axes>"
            ],
            "image/png": "[encoded data removed]"
          },
          "metadata": {}
        }
      ]
    }
  ]
}